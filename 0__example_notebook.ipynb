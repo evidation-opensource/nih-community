{
 "cells": [
  {
   "cell_type": "markdown",
   "metadata": {
    "application/vnd.databricks.v1+cell": {
     "inputWidgets": {},
     "nuid": "2cc1bdf5-4a8a-4a1c-8dc6-3906726150b5",
     "showTitle": false,
     "title": ""
    }
   },
   "source": [
    "## NIH COMmunity:  Wearable model training and evaluation script"
   ]
  },
  {
   "cell_type": "code",
   "execution_count": null,
   "metadata": {
    "application/vnd.databricks.v1+cell": {
     "inputWidgets": {},
     "nuid": "e4a89f7b-2bde-4f6c-a411-23336b462e0a",
     "showTitle": false,
     "title": ""
    }
   },
   "outputs": [
    {
     "data": {
      "text/html": [
       "<style scoped>\n",
       "  .ansiout {\n",
       "    display: block;\n",
       "    unicode-bidi: embed;\n",
       "    white-space: pre-wrap;\n",
       "    word-wrap: break-word;\n",
       "    word-break: break-all;\n",
       "    font-family: \"Source Code Pro\", \"Menlo\", monospace;;\n",
       "    font-size: 13px;\n",
       "    color: #555;\n",
       "    margin-left: 4px;\n",
       "    line-height: 19px;\n",
       "  }\n",
       "</style>\n",
       "<div class=\"ansiout\"></div>"
      ]
     },
     "metadata": {
      "application/vnd.databricks.v1+output": {
       "addedWidgets": {},
       "arguments": {},
       "data": "<div class=\"ansiout\"></div>",
       "datasetInfos": [],
       "removedWidgets": [],
       "type": "html"
      }
     },
     "output_type": "display_data"
    }
   ],
   "source": [
    "import pandas as pd\n",
    "import numpy as np\n",
    "\n",
    "import matplotlib.pyplot as plt\n",
    "import seaborn as sns\n",
    "\n",
    "from sklearn.metrics import roc_auc_score, roc_curve, classification_report\n",
    "from xgboost import XGBClassifier\n",
    "\n",
    "from utils import * ### need utils.py in the same folder as this notebook\n",
    "from time import time\n",
    "\n",
    "idx = pd.IndexSlice\n",
    "pd.set_option('max.rows', 100)\n",
    "pd.set_option('max.columns', 300)\n",
    "pd.set_option('mode.chained_assignment', 'raise')\n",
    "pd.set_option('display.float_format', lambda x: '%.4f' % x) #supress scientific notation"
   ]
  },
  {
   "cell_type": "markdown",
   "metadata": {
    "application/vnd.databricks.v1+cell": {
     "inputWidgets": {},
     "nuid": "ba2e265c-7054-47f4-a6c5-cdeb0730c48b",
     "showTitle": false,
     "title": ""
    }
   },
   "source": [
    "### Package versions:\n",
    "\n",
    "* pandas 1.1.1\n",
    "* numpy 1.19.1\n",
    "* sklearn 0.23.2\n",
    "* seaborn 0.10.1\n",
    "* matplotlib 3.3.1\n",
    "* xgboost 1.2.0"
   ]
  },
  {
   "cell_type": "markdown",
   "metadata": {
    "application/vnd.databricks.v1+cell": {
     "inputWidgets": {},
     "nuid": "f8f3982a-551f-4a89-974e-a203fed2153a",
     "showTitle": false,
     "title": ""
    }
   },
   "source": [
    "### Generate synthetic data\n",
    "\n",
    "* Using `train`, `val`, `test` splits of 150, 30, 30 participants, respectively\n",
    "* Using ILI types - `Flu` (2) and `Covid` (3) -- these differ in activity levels for 4 daily heart-rate (HR) related features:\n",
    "    * Maximum HR when not moving\n",
    "    * Resting HR\n",
    "    * HR std. dev.\n",
    "    * HR 50 percentile\n",
    "* These 4 features are shifted 4 days back -- providing 5 days of features (including today) to make a prediction for today's ILI status\n",
    "* Creates 43 days of data around a single ILI onset event\n",
    "* Days -28 to -22, -7 to 0, and 8 to 14 are buffer days -- labeled `-1` for training\n",
    "* Days -21 to -8 are \"healthy\" days -- labeled `0` for training\n",
    "* Days 1 to 7 are \"sick\" days -- labeled `1` for training"
   ]
  },
  {
   "cell_type": "code",
   "execution_count": null,
   "metadata": {
    "application/vnd.databricks.v1+cell": {
     "inputWidgets": {},
     "nuid": "c3c4ebd5-b62b-4da5-be9d-57b55314f753",
     "showTitle": false,
     "title": ""
    }
   },
   "outputs": [
    {
     "data": {
      "text/html": [
       "<style scoped>\n",
       "  .ansiout {\n",
       "    display: block;\n",
       "    unicode-bidi: embed;\n",
       "    white-space: pre-wrap;\n",
       "    word-wrap: break-word;\n",
       "    word-break: break-all;\n",
       "    font-family: \"Source Code Pro\", \"Menlo\", monospace;;\n",
       "    font-size: 13px;\n",
       "    color: #555;\n",
       "    margin-left: 4px;\n",
       "    line-height: 19px;\n",
       "  }\n",
       "</style>\n",
       "<div class=\"ansiout\">(18060, 24)\n",
       "N = 420\n",
       "Out[20]: count                            18060\n",
       "mean     2020-04-04 20:34:17.142857216\n",
       "min                2020-01-04 00:00:00\n",
       "25%                2020-02-28 00:00:00\n",
       "50%                2020-04-05 00:00:00\n",
       "75%                2020-05-09 00:00:00\n",
       "max                2020-07-11 00:00:00\n",
       "Name: dt, dtype: object</div>"
      ]
     },
     "metadata": {
      "application/vnd.databricks.v1+output": {
       "addedWidgets": {},
       "arguments": {},
       "data": "<div class=\"ansiout\">(18060, 24)\nN = 420\nOut[20]: count                            18060\nmean     2020-04-04 20:34:17.142857216\nmin                2020-01-04 00:00:00\n25%                2020-02-28 00:00:00\n50%                2020-04-05 00:00:00\n75%                2020-05-09 00:00:00\nmax                2020-07-11 00:00:00\nName: dt, dtype: object</div>",
       "datasetInfos": [],
       "removedWidgets": [],
       "type": "html"
      }
     },
     "output_type": "display_data"
    },
    {
     "data": {
      "text/html": [
       "<style scoped>\n",
       "  .ansiout {\n",
       "    display: block;\n",
       "    unicode-bidi: embed;\n",
       "    white-space: pre-wrap;\n",
       "    word-wrap: break-word;\n",
       "    word-break: break-all;\n",
       "    font-family: \"Source Code Pro\", \"Menlo\", monospace;;\n",
       "    font-size: 13px;\n",
       "    color: #555;\n",
       "    margin-left: 4px;\n",
       "    line-height: 19px;\n",
       "  }\n",
       "</style>\n",
       "<div class=\"ansiout\"></div>"
      ]
     },
     "metadata": {
      "application/vnd.databricks.v1+output": {
       "addedWidgets": {},
       "arguments": {},
       "data": "<div class=\"ansiout\"></div>",
       "datasetInfos": [],
       "removedWidgets": [],
       "type": "html"
      }
     },
     "output_type": "display_data"
    },
    {
     "data": {
      "text/html": [
       "<style scoped>\n",
       "  .ansiout {\n",
       "    display: block;\n",
       "    unicode-bidi: embed;\n",
       "    white-space: pre-wrap;\n",
       "    word-wrap: break-word;\n",
       "    word-break: break-all;\n",
       "    font-family: \"Source Code Pro\", \"Menlo\", monospace;;\n",
       "    font-size: 13px;\n",
       "    color: #555;\n",
       "    margin-left: 4px;\n",
       "    line-height: 19px;\n",
       "  }\n",
       "</style>\n",
       "<div class=\"ansiout\"></div>"
      ]
     },
     "metadata": {
      "application/vnd.databricks.v1+output": {
       "addedWidgets": {},
       "arguments": {},
       "data": "<div class=\"ansiout\"></div>",
       "datasetInfos": [],
       "removedWidgets": [],
       "type": "html"
      }
     },
     "output_type": "display_data"
    },
    {
     "data": {
      "text/html": [
       "<style scoped>\n",
       "  .ansiout {\n",
       "    display: block;\n",
       "    unicode-bidi: embed;\n",
       "    white-space: pre-wrap;\n",
       "    word-wrap: break-word;\n",
       "    word-break: break-all;\n",
       "    font-family: \"Source Code Pro\", \"Menlo\", monospace;;\n",
       "    font-size: 13px;\n",
       "    color: #555;\n",
       "    margin-left: 4px;\n",
       "    line-height: 19px;\n",
       "  }\n",
       "</style>\n",
       "<div class=\"ansiout\"></div>"
      ]
     },
     "metadata": {
      "application/vnd.databricks.v1+output": {
       "addedWidgets": {},
       "arguments": {},
       "data": "<div class=\"ansiout\"></div>",
       "datasetInfos": [],
       "removedWidgets": [],
       "type": "html"
      }
     },
     "output_type": "display_data"
    },
    {
     "data": {
      "text/html": [
       "<style scoped>\n",
       "  .ansiout {\n",
       "    display: block;\n",
       "    unicode-bidi: embed;\n",
       "    white-space: pre-wrap;\n",
       "    word-wrap: break-word;\n",
       "    word-break: break-all;\n",
       "    font-family: \"Source Code Pro\", \"Menlo\", monospace;;\n",
       "    font-size: 13px;\n",
       "    color: #555;\n",
       "    margin-left: 4px;\n",
       "    line-height: 19px;\n",
       "  }\n",
       "</style>\n",
       "<div class=\"ansiout\"></div>"
      ]
     },
     "metadata": {
      "application/vnd.databricks.v1+output": {
       "addedWidgets": {},
       "arguments": {},
       "data": "<div class=\"ansiout\"></div>",
       "datasetInfos": [],
       "removedWidgets": [],
       "type": "html"
      }
     },
     "output_type": "display_data"
    },
    {
     "data": {
      "text/html": [
       "<style scoped>\n",
       "  .ansiout {\n",
       "    display: block;\n",
       "    unicode-bidi: embed;\n",
       "    white-space: pre-wrap;\n",
       "    word-wrap: break-word;\n",
       "    word-break: break-all;\n",
       "    font-family: \"Source Code Pro\", \"Menlo\", monospace;;\n",
       "    font-size: 13px;\n",
       "    color: #555;\n",
       "    margin-left: 4px;\n",
       "    line-height: 19px;\n",
       "  }\n",
       "</style>\n",
       "<div class=\"ansiout\"></div>"
      ]
     },
     "metadata": {
      "application/vnd.databricks.v1+output": {
       "addedWidgets": {},
       "arguments": {},
       "data": "<div class=\"ansiout\"></div>",
       "datasetInfos": [],
       "removedWidgets": [],
       "type": "html"
      }
     },
     "output_type": "display_data"
    }
   ],
   "source": [
    "rnd = np.random.RandomState(1493)\n",
    "max_num = 1000000\n",
    "df_activity = pd.concat([generate_normalized_hr_sample(i, 'train', 3) for i in rnd.choice(np.arange(1,max_num),150)]\n",
    "                     + [generate_normalized_hr_sample(i, 'val',3) for i in rnd.choice(np.arange(1,max_num),30)]\n",
    "                     + [generate_normalized_hr_sample(i, 'test',3) for i in rnd.choice(np.arange(1,max_num),30)]\n",
    "                     +  [generate_normalized_hr_sample(i, 'train', 2) for i in rnd.choice(np.arange(1,max_num),150)]\n",
    "                     + [generate_normalized_hr_sample(i, 'val',2) for i in rnd.choice(np.arange(1,max_num),30)]\n",
    "                     + [generate_normalized_hr_sample(i, 'test',2) for i in rnd.choice(np.arange(1,max_num),30)]\n",
    "                    )\n",
    "print(df_activity.shape)\n",
    "print('N =', count_unique_index(df_activity))\n",
    "describe_datetimeindex(df_activity)"
   ]
  },
  {
   "cell_type": "markdown",
   "metadata": {
    "application/vnd.databricks.v1+cell": {
     "inputWidgets": {},
     "nuid": "4c9c1363-01d6-441f-9acc-a882ffddd9ba",
     "showTitle": false,
     "title": ""
    }
   },
   "source": [
    "The number of participants should match total rows by 43"
   ]
  },
  {
   "cell_type": "code",
   "execution_count": null,
   "metadata": {
    "application/vnd.databricks.v1+cell": {
     "inputWidgets": {},
     "nuid": "04f79b5d-0b7d-4fc0-b62c-d237456a5523",
     "showTitle": false,
     "title": ""
    }
   },
   "outputs": [
    {
     "data": {
      "text/html": [
       "<style scoped>\n",
       "  .ansiout {\n",
       "    display: block;\n",
       "    unicode-bidi: embed;\n",
       "    white-space: pre-wrap;\n",
       "    word-wrap: break-word;\n",
       "    word-break: break-all;\n",
       "    font-family: \"Source Code Pro\", \"Menlo\", monospace;;\n",
       "    font-size: 13px;\n",
       "    color: #555;\n",
       "    margin-left: 4px;\n",
       "    line-height: 19px;\n",
       "  }\n",
       "</style>\n",
       "<div class=\"ansiout\"></div>"
      ]
     },
     "metadata": {
      "application/vnd.databricks.v1+output": {
       "addedWidgets": {},
       "arguments": {},
       "data": "<div class=\"ansiout\"></div>",
       "datasetInfos": [],
       "removedWidgets": [],
       "type": "html"
      }
     },
     "output_type": "display_data"
    }
   ],
   "source": [
    "assert count_unique_index(df_activity) == df_activity.shape[0]/43"
   ]
  },
  {
   "cell_type": "markdown",
   "metadata": {
    "application/vnd.databricks.v1+cell": {
     "inputWidgets": {},
     "nuid": "8c659db5-7fbc-4a34-a8db-79711f777740",
     "showTitle": false,
     "title": ""
    }
   },
   "source": [
    "### Generate training dataset\n",
    "\n",
    "* Only train on Covid cases (ILI_type==3) for a Healthy vs. COVID classifier (HvC)\n",
    "* Only use 0 and 1 labeled days, skip buffer days for training"
   ]
  },
  {
   "cell_type": "code",
   "execution_count": null,
   "metadata": {
    "application/vnd.databricks.v1+cell": {
     "inputWidgets": {},
     "nuid": "e778c3ca-f268-47e2-a4c3-0c7ac854ee09",
     "showTitle": false,
     "title": ""
    }
   },
   "outputs": [
    {
     "data": {
      "text/html": [
       "<style scoped>\n",
       "  .ansiout {\n",
       "    display: block;\n",
       "    unicode-bidi: embed;\n",
       "    white-space: pre-wrap;\n",
       "    word-wrap: break-word;\n",
       "    word-break: break-all;\n",
       "    font-family: \"Source Code Pro\", \"Menlo\", monospace;;\n",
       "    font-size: 13px;\n",
       "    color: #555;\n",
       "    margin-left: 4px;\n",
       "    line-height: 19px;\n",
       "  }\n",
       "</style>\n",
       "<div class=\"ansiout\">(3150, 20) (3150,)\n",
       "Missing rows percent = 13.90%\n",
       "/databricks/python/lib/python3.7/site-packages/pandas/core/generic.py:3878: PerformanceWarning: dropping on a non-lexsorted multi-index without a level parameter may impact performance.\n",
       "  obj = obj._drop_axis(labels, axis, level=level, errors=errors)\n",
       "  (labels, training_labels)  count  percent\n",
       "0                         0   2100    66.67\n",
       "1                         1   1050    33.33\n",
       "2                     Total   3150   100.00\n",
       "</div>"
      ]
     },
     "metadata": {
      "application/vnd.databricks.v1+output": {
       "addedWidgets": {},
       "arguments": {},
       "data": "<div class=\"ansiout\">(3150, 20) (3150,)\nMissing rows percent = 13.90%\n/databricks/python/lib/python3.7/site-packages/pandas/core/generic.py:3878: PerformanceWarning: dropping on a non-lexsorted multi-index without a level parameter may impact performance.\n  obj = obj._drop_axis(labels, axis, level=level, errors=errors)\n  (labels, training_labels)  count  percent\n0                         0   2100    66.67\n1                         1   1050    33.33\n2                     Total   3150   100.00\n</div>",
       "datasetInfos": [],
       "removedWidgets": [],
       "type": "html"
      }
     },
     "output_type": "display_data"
    }
   ],
   "source": [
    "label_col = ('labels', 'training_labels')\n",
    "split_col = ('labels', 'split')\n",
    "type_col = ('labels', 'ILI_type')\n",
    "\n",
    "days_ago = ['0days_ago', '1days_ago', '2days_ago', '3days_ago', '4days_ago']\n",
    "feature_cols = ['heart_rate__not_moving__max', \n",
    "                'heart_rate__resting_heart_rate',\n",
    "                'heart_rate__stddev',\n",
    "                'heart_rate__perc_50th']\n",
    "\n",
    "keep_train = (df_activity[label_col].isin([0,1]) \n",
    "                & (df_activity[split_col] == 'train')\n",
    "                & (df_activity[type_col] == 3)\n",
    "               )\n",
    "\n",
    "X_train, y_train, filter_train = get_dataset(df_activity, keep_train, days_ago, feature_cols, label_col)"
   ]
  },
  {
   "cell_type": "code",
   "execution_count": null,
   "metadata": {
    "application/vnd.databricks.v1+cell": {
     "inputWidgets": {},
     "nuid": "160d36b0-9d0b-47cf-98d0-6a89664adda7",
     "showTitle": false,
     "title": ""
    }
   },
   "outputs": [
    {
     "data": {
      "text/html": [
       "<style scoped>\n",
       "  .ansiout {\n",
       "    display: block;\n",
       "    unicode-bidi: embed;\n",
       "    white-space: pre-wrap;\n",
       "    word-wrap: break-word;\n",
       "    word-break: break-all;\n",
       "    font-family: \"Source Code Pro\", \"Menlo\", monospace;;\n",
       "    font-size: 13px;\n",
       "    color: #555;\n",
       "    margin-left: 4px;\n",
       "    line-height: 19px;\n",
       "  }\n",
       "</style>\n",
       "<div class=\"ansiout\">(630, 20) (630,)\n",
       "Missing rows percent = 11.90%\n",
       "/databricks/python/lib/python3.7/site-packages/pandas/core/generic.py:3878: PerformanceWarning: dropping on a non-lexsorted multi-index without a level parameter may impact performance.\n",
       "  obj = obj._drop_axis(labels, axis, level=level, errors=errors)\n",
       "  (labels, training_labels)  count  percent\n",
       "0                         0    420    66.67\n",
       "1                         1    210    33.33\n",
       "2                     Total    630   100.00\n",
       "</div>"
      ]
     },
     "metadata": {
      "application/vnd.databricks.v1+output": {
       "addedWidgets": {},
       "arguments": {},
       "data": "<div class=\"ansiout\">(630, 20) (630,)\nMissing rows percent = 11.90%\n/databricks/python/lib/python3.7/site-packages/pandas/core/generic.py:3878: PerformanceWarning: dropping on a non-lexsorted multi-index without a level parameter may impact performance.\n  obj = obj._drop_axis(labels, axis, level=level, errors=errors)\n  (labels, training_labels)  count  percent\n0                         0    420    66.67\n1                         1    210    33.33\n2                     Total    630   100.00\n</div>",
       "datasetInfos": [],
       "removedWidgets": [],
       "type": "html"
      }
     },
     "output_type": "display_data"
    }
   ],
   "source": [
    "keep_val = (df_activity[label_col].isin([0,1]) \n",
    "            & (df_activity[split_col] == 'val')\n",
    "            & (df_activity[type_col] == 3)\n",
    "             )\n",
    "\n",
    "X_val, y_val, filter_val = get_dataset(df_activity, keep_val, days_ago, feature_cols, label_col)"
   ]
  },
  {
   "cell_type": "markdown",
   "metadata": {
    "application/vnd.databricks.v1+cell": {
     "inputWidgets": {},
     "nuid": "3a9acf8a-b0c1-4e44-bebf-6d088b62fcbf",
     "showTitle": false,
     "title": ""
    }
   },
   "source": [
    "### Train classifier with default hyperparameters -- to check"
   ]
  },
  {
   "cell_type": "code",
   "execution_count": null,
   "metadata": {
    "application/vnd.databricks.v1+cell": {
     "inputWidgets": {},
     "nuid": "7f66027c-3493-4db7-b289-3d9ac3d4fefc",
     "showTitle": false,
     "title": ""
    }
   },
   "outputs": [
    {
     "data": {
      "text/html": [
       "<style scoped>\n",
       "  .ansiout {\n",
       "    display: block;\n",
       "    unicode-bidi: embed;\n",
       "    white-space: pre-wrap;\n",
       "    word-wrap: break-word;\n",
       "    word-break: break-all;\n",
       "    font-family: \"Source Code Pro\", \"Menlo\", monospace;;\n",
       "    font-size: 13px;\n",
       "    color: #555;\n",
       "    margin-left: 4px;\n",
       "    line-height: 19px;\n",
       "  }\n",
       "</style>\n",
       "<div class=\"ansiout\">Train ROC: 0.9814\n",
       "Val ROC: 0.8353\n",
       "</div>"
      ]
     },
     "metadata": {
      "application/vnd.databricks.v1+output": {
       "addedWidgets": {},
       "arguments": {},
       "data": "<div class=\"ansiout\">Train ROC: 0.9814\nVal ROC: 0.8353\n</div>",
       "datasetInfos": [],
       "removedWidgets": [],
       "type": "html"
      }
     },
     "output_type": "display_data"
    }
   ],
   "source": [
    "classifier_HvC, _, yh_val = run_xgb_class2(XGBClassifier(), X_train, y_train, X_val, y_val)"
   ]
  },
  {
   "cell_type": "markdown",
   "metadata": {
    "application/vnd.databricks.v1+cell": {
     "inputWidgets": {},
     "nuid": "849f79e5-fed7-4a26-8a18-99dfc9d5890a",
     "showTitle": false,
     "title": ""
    }
   },
   "source": [
    "Check effect of missingness on performance -- at the highest missingness we see a drop on AUROC"
   ]
  },
  {
   "cell_type": "code",
   "execution_count": null,
   "metadata": {
    "application/vnd.databricks.v1+cell": {
     "inputWidgets": {},
     "nuid": "ca1e797c-a268-429f-8597-84ce9561383d",
     "showTitle": false,
     "title": ""
    }
   },
   "outputs": [
    {
     "data": {
      "image/png": "[encoded data removed]"
     },
     "metadata": {
      "application/vnd.databricks.v1+output": {
       "addedWidgets": {},
       "arguments": {},
       "data": "/plots/aab68ce4-5bd8-4457-8be5-90254e4848a2.png",
       "datasetInfos": [],
       "removedWidgets": [],
       "type": "image"
      }
     },
     "output_type": "display_data"
    }
   ],
   "source": [
    "fig = single_plot_missing_performance(y_val, yh_val, X_val, 'Healthy-v-COVID')\n",
    "display(fig)"
   ]
  },
  {
   "cell_type": "markdown",
   "metadata": {
    "application/vnd.databricks.v1+cell": {
     "inputWidgets": {},
     "nuid": "0fc7d1d4-ee43-484a-a201-416ab24f3fbd",
     "showTitle": false,
     "title": ""
    }
   },
   "source": [
    "### Hyperparameter tune XGBoost"
   ]
  },
  {
   "cell_type": "code",
   "execution_count": null,
   "metadata": {
    "application/vnd.databricks.v1+cell": {
     "inputWidgets": {},
     "nuid": "54fb9a28-ed07-4bef-99f6-1eb85d6e6c2d",
     "showTitle": false,
     "title": ""
    }
   },
   "outputs": [
    {
     "data": {
      "text/html": [
       "<style scoped>\n",
       "  .ansiout {\n",
       "    display: block;\n",
       "    unicode-bidi: embed;\n",
       "    white-space: pre-wrap;\n",
       "    word-wrap: break-word;\n",
       "    word-break: break-all;\n",
       "    font-family: \"Source Code Pro\", \"Menlo\", monospace;;\n",
       "    font-size: 13px;\n",
       "    color: #555;\n",
       "    margin-left: 4px;\n",
       "    line-height: 19px;\n",
       "  }\n",
       "</style>\n",
       "<div class=\"ansiout\"></div>"
      ]
     },
     "metadata": {
      "application/vnd.databricks.v1+output": {
       "addedWidgets": {},
       "arguments": {},
       "data": "<div class=\"ansiout\"></div>",
       "datasetInfos": [],
       "removedWidgets": [],
       "type": "html"
      }
     },
     "output_type": "display_data"
    }
   ],
   "source": [
    "space = []\n",
    "for i in range(100):\n",
    "    space.append({\n",
    "               #'objective' : 'multi:softmax',\n",
    "               'n_estimators' : np.random.choice(np.arange(10, 200, 10), 1)[0],\n",
    "               #'eta' : np.random.choice(np.arange(0.01, 0.1, 0.02), 1)[0],\n",
    "               'max_depth' : np.random.choice(np.arange(1, 10), 1)[0],\n",
    "               #'min_child_weight' : np.random.choice(np.arange(1, 6, 1), 1)[0],\n",
    "               'subsample' : np.random.choice(np.arange(0.5, 1, 0.05), 1)[0],\n",
    "               'gamma' : np.random.choice(np.arange(0.5, 1, 0.05), 1)[0],\n",
    "               'colsample_bytree' : np.random.choice(np.arange(0.5, 1, 0.05), 1)[0],\n",
    "               #'silent' : 1,\n",
    "               #'tree_method' : 'gpu_hist',\n",
    "               'scale_pos_weight' : np.random.choice(np.arange(1, 10, 1), 1)[0], #add positive class weight up-scaling\n",
    "               'seed' : np.random.choice(np.arange(1,10000),1)[0]\n",
    "               })"
   ]
  },
  {
   "cell_type": "code",
   "execution_count": null,
   "metadata": {
    "application/vnd.databricks.v1+cell": {
     "inputWidgets": {},
     "nuid": "ec646d1c-c844-46e7-9b74-1289ec2e206e",
     "showTitle": false,
     "title": ""
    }
   },
   "outputs": [
    {
     "data": {
      "text/html": [
       "<div>\n",
       "<style scoped>\n",
       "    .dataframe tbody tr th:only-of-type {\n",
       "        vertical-align: middle;\n",
       "    }\n",
       "\n",
       "    .dataframe tbody tr th {\n",
       "        vertical-align: top;\n",
       "    }\n",
       "\n",
       "    .dataframe thead th {\n",
       "        text-align: right;\n",
       "    }\n",
       "</style>\n",
       "<table border=\"1\" class=\"dataframe\">\n",
       "  <thead>\n",
       "    <tr style=\"text-align: right;\">\n",
       "      <th></th>\n",
       "      <th>train_roc</th>\n",
       "      <th>val_roc</th>\n",
       "      <th>time_mins</th>\n",
       "      <th>n_estimators</th>\n",
       "      <th>max_depth</th>\n",
       "      <th>subsample</th>\n",
       "      <th>gamma</th>\n",
       "      <th>colsample_bytree</th>\n",
       "      <th>scale_pos_weight</th>\n",
       "      <th>seed</th>\n",
       "    </tr>\n",
       "  </thead>\n",
       "  <tbody>\n",
       "    <tr>\n",
       "      <th>65</th>\n",
       "      <td>0.8541</td>\n",
       "      <td>0.8666</td>\n",
       "      <td>0.0004</td>\n",
       "      <td>50.0000</td>\n",
       "      <td>1.0000</td>\n",
       "      <td>0.7500</td>\n",
       "      <td>0.7500</td>\n",
       "      <td>0.5000</td>\n",
       "      <td>3.0000</td>\n",
       "      <td>1761.0000</td>\n",
       "    </tr>\n",
       "    <tr>\n",
       "      <th>89</th>\n",
       "      <td>0.8536</td>\n",
       "      <td>0.8657</td>\n",
       "      <td>0.0005</td>\n",
       "      <td>60.0000</td>\n",
       "      <td>1.0000</td>\n",
       "      <td>0.6000</td>\n",
       "      <td>0.6000</td>\n",
       "      <td>0.9000</td>\n",
       "      <td>7.0000</td>\n",
       "      <td>5105.0000</td>\n",
       "    </tr>\n",
       "    <tr>\n",
       "      <th>48</th>\n",
       "      <td>0.8721</td>\n",
       "      <td>0.8641</td>\n",
       "      <td>0.0006</td>\n",
       "      <td>40.0000</td>\n",
       "      <td>2.0000</td>\n",
       "      <td>0.9000</td>\n",
       "      <td>0.8000</td>\n",
       "      <td>0.8500</td>\n",
       "      <td>3.0000</td>\n",
       "      <td>6463.0000</td>\n",
       "    </tr>\n",
       "    <tr>\n",
       "      <th>56</th>\n",
       "      <td>0.8756</td>\n",
       "      <td>0.8631</td>\n",
       "      <td>0.0007</td>\n",
       "      <td>50.0000</td>\n",
       "      <td>2.0000</td>\n",
       "      <td>0.9500</td>\n",
       "      <td>0.7000</td>\n",
       "      <td>0.8500</td>\n",
       "      <td>4.0000</td>\n",
       "      <td>4500.0000</td>\n",
       "    </tr>\n",
       "    <tr>\n",
       "      <th>17</th>\n",
       "      <td>0.8587</td>\n",
       "      <td>0.8631</td>\n",
       "      <td>0.0009</td>\n",
       "      <td>110.0000</td>\n",
       "      <td>1.0000</td>\n",
       "      <td>0.8000</td>\n",
       "      <td>0.9000</td>\n",
       "      <td>0.7500</td>\n",
       "      <td>9.0000</td>\n",
       "      <td>6391.0000</td>\n",
       "    </tr>\n",
       "    <tr>\n",
       "      <th>38</th>\n",
       "      <td>0.8638</td>\n",
       "      <td>0.8627</td>\n",
       "      <td>0.0010</td>\n",
       "      <td>150.0000</td>\n",
       "      <td>1.0000</td>\n",
       "      <td>0.7000</td>\n",
       "      <td>0.8500</td>\n",
       "      <td>0.7000</td>\n",
       "      <td>2.0000</td>\n",
       "      <td>5212.0000</td>\n",
       "    </tr>\n",
       "    <tr>\n",
       "      <th>94</th>\n",
       "      <td>0.8641</td>\n",
       "      <td>0.8625</td>\n",
       "      <td>0.0011</td>\n",
       "      <td>160.0000</td>\n",
       "      <td>1.0000</td>\n",
       "      <td>0.9000</td>\n",
       "      <td>0.5500</td>\n",
       "      <td>0.5500</td>\n",
       "      <td>2.0000</td>\n",
       "      <td>5354.0000</td>\n",
       "    </tr>\n",
       "    <tr>\n",
       "      <th>4</th>\n",
       "      <td>0.8622</td>\n",
       "      <td>0.8623</td>\n",
       "      <td>0.0011</td>\n",
       "      <td>150.0000</td>\n",
       "      <td>1.0000</td>\n",
       "      <td>0.5500</td>\n",
       "      <td>0.9000</td>\n",
       "      <td>0.6000</td>\n",
       "      <td>5.0000</td>\n",
       "      <td>7289.0000</td>\n",
       "    </tr>\n",
       "    <tr>\n",
       "      <th>43</th>\n",
       "      <td>0.8615</td>\n",
       "      <td>0.8612</td>\n",
       "      <td>0.0012</td>\n",
       "      <td>120.0000</td>\n",
       "      <td>1.0000</td>\n",
       "      <td>0.8500</td>\n",
       "      <td>0.9000</td>\n",
       "      <td>0.7000</td>\n",
       "      <td>6.0000</td>\n",
       "      <td>3219.0000</td>\n",
       "    </tr>\n",
       "    <tr>\n",
       "      <th>39</th>\n",
       "      <td>0.8650</td>\n",
       "      <td>0.8612</td>\n",
       "      <td>0.0012</td>\n",
       "      <td>170.0000</td>\n",
       "      <td>1.0000</td>\n",
       "      <td>0.8000</td>\n",
       "      <td>0.5000</td>\n",
       "      <td>0.8000</td>\n",
       "      <td>8.0000</td>\n",
       "      <td>956.0000</td>\n",
       "    </tr>\n",
       "  </tbody>\n",
       "</table>\n",
       "</div>"
      ]
     },
     "metadata": {
      "application/vnd.databricks.v1+output": {
       "addedWidgets": {},
       "arguments": {},
       "data": "<div>\n<style scoped>\n    .dataframe tbody tr th:only-of-type {\n        vertical-align: middle;\n    }\n\n    .dataframe tbody tr th {\n        vertical-align: top;\n    }\n\n    .dataframe thead th {\n        text-align: right;\n    }\n</style>\n<table border=\"1\" class=\"dataframe\">\n  <thead>\n    <tr style=\"text-align: right;\">\n      <th></th>\n      <th>train_roc</th>\n      <th>val_roc</th>\n      <th>time_mins</th>\n      <th>n_estimators</th>\n      <th>max_depth</th>\n      <th>subsample</th>\n      <th>gamma</th>\n      <th>colsample_bytree</th>\n      <th>scale_pos_weight</th>\n      <th>seed</th>\n    </tr>\n  </thead>\n  <tbody>\n    <tr>\n      <th>65</th>\n      <td>0.8541</td>\n      <td>0.8666</td>\n      <td>0.0004</td>\n      <td>50.0000</td>\n      <td>1.0000</td>\n      <td>0.7500</td>\n      <td>0.7500</td>\n      <td>0.5000</td>\n      <td>3.0000</td>\n      <td>1761.0000</td>\n    </tr>\n    <tr>\n      <th>89</th>\n      <td>0.8536</td>\n      <td>0.8657</td>\n      <td>0.0005</td>\n      <td>60.0000</td>\n      <td>1.0000</td>\n      <td>0.6000</td>\n      <td>0.6000</td>\n      <td>0.9000</td>\n      <td>7.0000</td>\n      <td>5105.0000</td>\n    </tr>\n    <tr>\n      <th>48</th>\n      <td>0.8721</td>\n      <td>0.8641</td>\n      <td>0.0006</td>\n      <td>40.0000</td>\n      <td>2.0000</td>\n      <td>0.9000</td>\n      <td>0.8000</td>\n      <td>0.8500</td>\n      <td>3.0000</td>\n      <td>6463.0000</td>\n    </tr>\n    <tr>\n      <th>56</th>\n      <td>0.8756</td>\n      <td>0.8631</td>\n      <td>0.0007</td>\n      <td>50.0000</td>\n      <td>2.0000</td>\n      <td>0.9500</td>\n      <td>0.7000</td>\n      <td>0.8500</td>\n      <td>4.0000</td>\n      <td>4500.0000</td>\n    </tr>\n    <tr>\n      <th>17</th>\n      <td>0.8587</td>\n      <td>0.8631</td>\n      <td>0.0009</td>\n      <td>110.0000</td>\n      <td>1.0000</td>\n      <td>0.8000</td>\n      <td>0.9000</td>\n      <td>0.7500</td>\n      <td>9.0000</td>\n      <td>6391.0000</td>\n    </tr>\n    <tr>\n      <th>38</th>\n      <td>0.8638</td>\n      <td>0.8627</td>\n      <td>0.0010</td>\n      <td>150.0000</td>\n      <td>1.0000</td>\n      <td>0.7000</td>\n      <td>0.8500</td>\n      <td>0.7000</td>\n      <td>2.0000</td>\n      <td>5212.0000</td>\n    </tr>\n    <tr>\n      <th>94</th>\n      <td>0.8641</td>\n      <td>0.8625</td>\n      <td>0.0011</td>\n      <td>160.0000</td>\n      <td>1.0000</td>\n      <td>0.9000</td>\n      <td>0.5500</td>\n      <td>0.5500</td>\n      <td>2.0000</td>\n      <td>5354.0000</td>\n    </tr>\n    <tr>\n      <th>4</th>\n      <td>0.8622</td>\n      <td>0.8623</td>\n      <td>0.0011</td>\n      <td>150.0000</td>\n      <td>1.0000</td>\n      <td>0.5500</td>\n      <td>0.9000</td>\n      <td>0.6000</td>\n      <td>5.0000</td>\n      <td>7289.0000</td>\n    </tr>\n    <tr>\n      <th>43</th>\n      <td>0.8615</td>\n      <td>0.8612</td>\n      <td>0.0012</td>\n      <td>120.0000</td>\n      <td>1.0000</td>\n      <td>0.8500</td>\n      <td>0.9000</td>\n      <td>0.7000</td>\n      <td>6.0000</td>\n      <td>3219.0000</td>\n    </tr>\n    <tr>\n      <th>39</th>\n      <td>0.8650</td>\n      <td>0.8612</td>\n      <td>0.0012</td>\n      <td>170.0000</td>\n      <td>1.0000</td>\n      <td>0.8000</td>\n      <td>0.5000</td>\n      <td>0.8000</td>\n      <td>8.0000</td>\n      <td>956.0000</td>\n    </tr>\n  </tbody>\n</table>\n</div>",
       "datasetInfos": [],
       "removedWidgets": [],
       "textData": "<div class=\"ansiout\">Out[42]: </div>",
       "type": "htmlSandbox"
      }
     },
     "output_type": "display_data"
    }
   ],
   "source": [
    "hypopt_HvC = run_xgb_hyperopt_2class(space, X_train[filter_train], y_train[filter_train],\n",
    "                                     X_val[filter_val], y_val[filter_val])\n",
    "hypopt_HvC.head(10)"
   ]
  },
  {
   "cell_type": "markdown",
   "metadata": {
    "application/vnd.databricks.v1+cell": {
     "inputWidgets": {},
     "nuid": "e79e8fd6-b934-4485-b949-198e9442f913",
     "showTitle": false,
     "title": ""
    }
   },
   "source": [
    "### Pick the best hyperparameters and rerun classifier"
   ]
  },
  {
   "cell_type": "code",
   "execution_count": null,
   "metadata": {
    "application/vnd.databricks.v1+cell": {
     "inputWidgets": {},
     "nuid": "1fe32885-cda0-4556-a9cc-3a611a728f04",
     "showTitle": false,
     "title": ""
    }
   },
   "outputs": [
    {
     "data": {
      "text/html": [
       "<style scoped>\n",
       "  .ansiout {\n",
       "    display: block;\n",
       "    unicode-bidi: embed;\n",
       "    white-space: pre-wrap;\n",
       "    word-wrap: break-word;\n",
       "    word-break: break-all;\n",
       "    font-family: \"Source Code Pro\", \"Menlo\", monospace;;\n",
       "    font-size: 13px;\n",
       "    color: #555;\n",
       "    margin-left: 4px;\n",
       "    line-height: 19px;\n",
       "  }\n",
       "</style>\n",
       "<div class=\"ansiout\">Train ROC: 0.8541\n",
       "Val ROC: 0.8666\n",
       "</div>"
      ]
     },
     "metadata": {
      "application/vnd.databricks.v1+output": {
       "addedWidgets": {},
       "arguments": {},
       "data": "<div class=\"ansiout\">Train ROC: 0.8541\nVal ROC: 0.8666\n</div>",
       "datasetInfos": [],
       "removedWidgets": [],
       "type": "html"
      }
     },
     "output_type": "display_data"
    }
   ],
   "source": [
    "params = space[65]\n",
    "classifier_HvC, _, yh_val = run_xgb_class2(XGBClassifier(**params), \n",
    "                                          X_train[filter_train], y_train[filter_train], \n",
    "                                          X_val[filter_val], y_val[filter_val])"
   ]
  },
  {
   "cell_type": "markdown",
   "metadata": {
    "application/vnd.databricks.v1+cell": {
     "inputWidgets": {},
     "nuid": "3d07826f-c03f-4315-ae93-3802487f4ffc",
     "showTitle": false,
     "title": ""
    }
   },
   "source": [
    "#### Select thresholds for making predictions based on specificity cut-offs"
   ]
  },
  {
   "cell_type": "code",
   "execution_count": null,
   "metadata": {
    "application/vnd.databricks.v1+cell": {
     "inputWidgets": {},
     "nuid": "ae4dc634-57cf-4d5b-9d40-f55e3880a856",
     "showTitle": false,
     "title": ""
    }
   },
   "outputs": [
    {
     "data": {
      "text/html": [
       "<style scoped>\n",
       "  .ansiout {\n",
       "    display: block;\n",
       "    unicode-bidi: embed;\n",
       "    white-space: pre-wrap;\n",
       "    word-wrap: break-word;\n",
       "    word-break: break-all;\n",
       "    font-family: \"Source Code Pro\", \"Menlo\", monospace;;\n",
       "    font-size: 13px;\n",
       "    color: #555;\n",
       "    margin-left: 4px;\n",
       "    line-height: 19px;\n",
       "  }\n",
       "</style>\n",
       "<div class=\"ansiout\">95% Specifivity cutoff = 0.7792\n",
       "              precision    recall  f1-score   support\n",
       "\n",
       "           0       0.83      0.95      0.89       388\n",
       "           1       0.83      0.56      0.67       167\n",
       "\n",
       "    accuracy                           0.83       555\n",
       "   macro avg       0.83      0.76      0.78       555\n",
       "weighted avg       0.83      0.83      0.82       555\n",
       "\n",
       "--------------------------------------------------\n",
       "90% Specifivity cutoff = 0.7182\n",
       "              precision    recall  f1-score   support\n",
       "\n",
       "           0       0.86      0.91      0.89       388\n",
       "           1       0.76      0.66      0.71       167\n",
       "\n",
       "    accuracy                           0.84       555\n",
       "   macro avg       0.81      0.79      0.80       555\n",
       "weighted avg       0.83      0.84      0.83       555\n",
       "\n",
       "--------------------------------------------------\n",
       "</div>"
      ]
     },
     "metadata": {
      "application/vnd.databricks.v1+output": {
       "addedWidgets": {},
       "arguments": {},
       "data": "<div class=\"ansiout\">95% Specifivity cutoff = 0.7792\n              precision    recall  f1-score   support\n\n           0       0.83      0.95      0.89       388\n           1       0.83      0.56      0.67       167\n\n    accuracy                           0.83       555\n   macro avg       0.83      0.76      0.78       555\nweighted avg       0.83      0.83      0.82       555\n\n--------------------------------------------------\n90% Specifivity cutoff = 0.7182\n              precision    recall  f1-score   support\n\n           0       0.86      0.91      0.89       388\n           1       0.76      0.66      0.71       167\n\n    accuracy                           0.84       555\n   macro avg       0.81      0.79      0.80       555\nweighted avg       0.83      0.84      0.83       555\n\n--------------------------------------------------\n</div>",
       "datasetInfos": [],
       "removedWidgets": [],
       "type": "html"
      }
     },
     "output_type": "display_data"
    }
   ],
   "source": [
    "yh_val = classifier_HvC.predict_proba(X_val)\n",
    "ROC_HvC_val, spec_thresh_HvC_val = get_specificity_threshold(y_val[filter_val],\n",
    "                                                         yh_val[filter_val,1],\n",
    "                                                         [0.95, 0.9]\n",
    "                                                        )"
   ]
  },
  {
   "cell_type": "code",
   "execution_count": null,
   "metadata": {
    "application/vnd.databricks.v1+cell": {
     "inputWidgets": {},
     "nuid": "09ae0ea9-9bfa-4b08-b11d-20692e6ba54d",
     "showTitle": false,
     "title": ""
    }
   },
   "outputs": [
    {
     "data": {
      "image/png": "[encoded data removed]"
     },
     "metadata": {
      "application/vnd.databricks.v1+output": {
       "addedWidgets": {},
       "arguments": {},
       "data": "/plots/ffbba29e-869d-435d-ac62-6acac3c95413.png",
       "datasetInfos": [],
       "removedWidgets": [],
       "type": "image"
      }
     },
     "output_type": "display_data"
    }
   ],
   "source": [
    "plot_roc(ROC_HvC_val[0], ROC_HvC_val[1])"
   ]
  },
  {
   "cell_type": "markdown",
   "metadata": {
    "application/vnd.databricks.v1+cell": {
     "inputWidgets": {},
     "nuid": "8a8c8752-6628-4288-baaf-9aca8bafe315",
     "showTitle": false,
     "title": ""
    }
   },
   "source": [
    "### Evaluate on Test set -- keep all days in predictions"
   ]
  },
  {
   "cell_type": "code",
   "execution_count": null,
   "metadata": {
    "application/vnd.databricks.v1+cell": {
     "inputWidgets": {},
     "nuid": "dbdce24a-a8b6-41a8-b483-b48170f04b2d",
     "showTitle": false,
     "title": ""
    }
   },
   "outputs": [
    {
     "data": {
      "text/html": [
       "<style scoped>\n",
       "  .ansiout {\n",
       "    display: block;\n",
       "    unicode-bidi: embed;\n",
       "    white-space: pre-wrap;\n",
       "    word-wrap: break-word;\n",
       "    word-break: break-all;\n",
       "    font-family: \"Source Code Pro\", \"Menlo\", monospace;;\n",
       "    font-size: 13px;\n",
       "    color: #555;\n",
       "    margin-left: 4px;\n",
       "    line-height: 19px;\n",
       "  }\n",
       "</style>\n",
       "<div class=\"ansiout\">(2580, 20) (2580,)\n",
       "Missing rows percent = 14.57%\n",
       "/databricks/python/lib/python3.7/site-packages/pandas/core/generic.py:3878: PerformanceWarning: dropping on a non-lexsorted multi-index without a level parameter may impact performance.\n",
       "  obj = obj._drop_axis(labels, axis, level=level, errors=errors)\n",
       "  (labels, training_labels)  count  percent\n",
       "0                        -1   1320  51.1600\n",
       "1                         0    840  32.5600\n",
       "2                         1    420  16.2800\n",
       "3                     Total   2580 100.0000\n",
       "</div>"
      ]
     },
     "metadata": {
      "application/vnd.databricks.v1+output": {
       "addedWidgets": {},
       "arguments": {},
       "data": "<div class=\"ansiout\">(2580, 20) (2580,)\nMissing rows percent = 14.57%\n/databricks/python/lib/python3.7/site-packages/pandas/core/generic.py:3878: PerformanceWarning: dropping on a non-lexsorted multi-index without a level parameter may impact performance.\n  obj = obj._drop_axis(labels, axis, level=level, errors=errors)\n  (labels, training_labels)  count  percent\n0                        -1   1320  51.1600\n1                         0    840  32.5600\n2                         1    420  16.2800\n3                     Total   2580 100.0000\n</div>",
       "datasetInfos": [],
       "removedWidgets": [],
       "type": "html"
      }
     },
     "output_type": "display_data"
    }
   ],
   "source": [
    "keep_test = (df_activity[split_col] == 'test')\n",
    "\n",
    "X_test, y_test, filter_test = get_dataset(df_activity, keep_test, days_ago, feature_cols, label_col)"
   ]
  },
  {
   "cell_type": "markdown",
   "metadata": {
    "application/vnd.databricks.v1+cell": {
     "inputWidgets": {},
     "nuid": "9d56bf0e-6e8d-4572-ac33-a96d85883dba",
     "showTitle": false,
     "title": ""
    }
   },
   "source": [
    "Evaluate performance for selected specificity threshold"
   ]
  },
  {
   "cell_type": "code",
   "execution_count": null,
   "metadata": {
    "application/vnd.databricks.v1+cell": {
     "inputWidgets": {},
     "nuid": "1d8124c1-2a4b-4886-bce7-717925ef93da",
     "showTitle": false,
     "title": ""
    }
   },
   "outputs": [
    {
     "data": {
      "text/html": [
       "<style scoped>\n",
       "  .ansiout {\n",
       "    display: block;\n",
       "    unicode-bidi: embed;\n",
       "    white-space: pre-wrap;\n",
       "    word-wrap: break-word;\n",
       "    word-break: break-all;\n",
       "    font-family: \"Source Code Pro\", \"Menlo\", monospace;;\n",
       "    font-size: 13px;\n",
       "    color: #555;\n",
       "    margin-left: 4px;\n",
       "    line-height: 19px;\n",
       "  }\n",
       "</style>\n",
       "<div class=\"ansiout\">N = 60\n",
       "Cumulative recall shape= (86, 5)\n",
       "Predictions shape= (2580, 11)\n",
       "(2580, 11)\n",
       "</div>"
      ]
     },
     "metadata": {
      "application/vnd.databricks.v1+output": {
       "addedWidgets": {},
       "arguments": {},
       "data": "<div class=\"ansiout\">N = 60\nCumulative recall shape= (86, 5)\nPredictions shape= (2580, 11)\n(2580, 11)\n</div>",
       "datasetInfos": [],
       "removedWidgets": [],
       "type": "html"
      }
     },
     "output_type": "display_data"
    }
   ],
   "source": [
    "specificity_threshold = 0.95\n",
    "pred_HvC, plot_df_HvC = run_get_predictions(classifier_HvC, X_test, y_test, filter_test,\n",
    "                                             df_activity.loc[:,idx['labels',:]], \n",
    "                                             specificity_threshold, \n",
    "                                             spec_thresh_HvC_val[specificity_threshold],\n",
    "                                            ['H', 'C'], ['id_participant_external'], \n",
    "                                            'days_since_onset')\n",
    "print(pred_HvC.shape)"
   ]
  },
  {
   "cell_type": "markdown",
   "metadata": {
    "application/vnd.databricks.v1+cell": {
     "inputWidgets": {},
     "nuid": "326f20ff-df55-4f67-8d36-073750be6253",
     "showTitle": false,
     "title": ""
    }
   },
   "source": [
    "#### Look at cumulative recall at day 0, 3 and 6"
   ]
  },
  {
   "cell_type": "code",
   "execution_count": null,
   "metadata": {
    "application/vnd.databricks.v1+cell": {
     "inputWidgets": {},
     "nuid": "732a4fa2-8593-489a-b4b5-745f892136d5",
     "showTitle": false,
     "title": ""
    }
   },
   "outputs": [
    {
     "data": {
      "text/html": [
       "<div>\n",
       "<style scoped>\n",
       "    .dataframe tbody tr th:only-of-type {\n",
       "        vertical-align: middle;\n",
       "    }\n",
       "\n",
       "    .dataframe tbody tr th {\n",
       "        vertical-align: top;\n",
       "    }\n",
       "\n",
       "    .dataframe thead th {\n",
       "        text-align: right;\n",
       "    }\n",
       "</style>\n",
       "<table border=\"1\" class=\"dataframe\">\n",
       "  <thead>\n",
       "    <tr style=\"text-align: right;\">\n",
       "      <th></th>\n",
       "      <th>days_since_onset</th>\n",
       "      <th>ILI_type</th>\n",
       "      <th>cumsum_spec95_HvC</th>\n",
       "      <th>count_spec95_HvC</th>\n",
       "      <th>recall_fraction</th>\n",
       "      <th>Type</th>\n",
       "    </tr>\n",
       "  </thead>\n",
       "  <tbody>\n",
       "    <tr>\n",
       "      <th>28</th>\n",
       "      <td>0</td>\n",
       "      <td>2.0000</td>\n",
       "      <td>7.0000</td>\n",
       "      <td>29.0000</td>\n",
       "      <td>0.2414</td>\n",
       "      <td>Flu, N=30</td>\n",
       "    </tr>\n",
       "    <tr>\n",
       "      <th>31</th>\n",
       "      <td>3</td>\n",
       "      <td>2.0000</td>\n",
       "      <td>14.0000</td>\n",
       "      <td>30.0000</td>\n",
       "      <td>0.4667</td>\n",
       "      <td>Flu, N=30</td>\n",
       "    </tr>\n",
       "    <tr>\n",
       "      <th>34</th>\n",
       "      <td>6</td>\n",
       "      <td>2.0000</td>\n",
       "      <td>22.0000</td>\n",
       "      <td>30.0000</td>\n",
       "      <td>0.7333</td>\n",
       "      <td>Flu, N=30</td>\n",
       "    </tr>\n",
       "    <tr>\n",
       "      <th>71</th>\n",
       "      <td>0</td>\n",
       "      <td>3.0000</td>\n",
       "      <td>22.0000</td>\n",
       "      <td>30.0000</td>\n",
       "      <td>0.7333</td>\n",
       "      <td>COVID, N=30</td>\n",
       "    </tr>\n",
       "    <tr>\n",
       "      <th>74</th>\n",
       "      <td>3</td>\n",
       "      <td>3.0000</td>\n",
       "      <td>25.0000</td>\n",
       "      <td>30.0000</td>\n",
       "      <td>0.8333</td>\n",
       "      <td>COVID, N=30</td>\n",
       "    </tr>\n",
       "    <tr>\n",
       "      <th>77</th>\n",
       "      <td>6</td>\n",
       "      <td>3.0000</td>\n",
       "      <td>29.0000</td>\n",
       "      <td>30.0000</td>\n",
       "      <td>0.9667</td>\n",
       "      <td>COVID, N=30</td>\n",
       "    </tr>\n",
       "  </tbody>\n",
       "</table>\n",
       "</div>"
      ]
     },
     "metadata": {
      "application/vnd.databricks.v1+output": {
       "addedWidgets": {},
       "arguments": {},
       "data": "<div>\n<style scoped>\n    .dataframe tbody tr th:only-of-type {\n        vertical-align: middle;\n    }\n\n    .dataframe tbody tr th {\n        vertical-align: top;\n    }\n\n    .dataframe thead th {\n        text-align: right;\n    }\n</style>\n<table border=\"1\" class=\"dataframe\">\n  <thead>\n    <tr style=\"text-align: right;\">\n      <th></th>\n      <th>days_since_onset</th>\n      <th>ILI_type</th>\n      <th>cumsum_spec95_HvC</th>\n      <th>count_spec95_HvC</th>\n      <th>recall_fraction</th>\n      <th>Type</th>\n    </tr>\n  </thead>\n  <tbody>\n    <tr>\n      <th>28</th>\n      <td>0</td>\n      <td>2.0000</td>\n      <td>7.0000</td>\n      <td>29.0000</td>\n      <td>0.2414</td>\n      <td>Flu, N=30</td>\n    </tr>\n    <tr>\n      <th>31</th>\n      <td>3</td>\n      <td>2.0000</td>\n      <td>14.0000</td>\n      <td>30.0000</td>\n      <td>0.4667</td>\n      <td>Flu, N=30</td>\n    </tr>\n    <tr>\n      <th>34</th>\n      <td>6</td>\n      <td>2.0000</td>\n      <td>22.0000</td>\n      <td>30.0000</td>\n      <td>0.7333</td>\n      <td>Flu, N=30</td>\n    </tr>\n    <tr>\n      <th>71</th>\n      <td>0</td>\n      <td>3.0000</td>\n      <td>22.0000</td>\n      <td>30.0000</td>\n      <td>0.7333</td>\n      <td>COVID, N=30</td>\n    </tr>\n    <tr>\n      <th>74</th>\n      <td>3</td>\n      <td>3.0000</td>\n      <td>25.0000</td>\n      <td>30.0000</td>\n      <td>0.8333</td>\n      <td>COVID, N=30</td>\n    </tr>\n    <tr>\n      <th>77</th>\n      <td>6</td>\n      <td>3.0000</td>\n      <td>29.0000</td>\n      <td>30.0000</td>\n      <td>0.9667</td>\n      <td>COVID, N=30</td>\n    </tr>\n  </tbody>\n</table>\n</div>",
       "datasetInfos": [],
       "removedWidgets": [],
       "textData": "<div class=\"ansiout\">Out[49]: </div>",
       "type": "htmlSandbox"
      }
     },
     "output_type": "display_data"
    }
   ],
   "source": [
    "plot_df_HvC[plot_df_HvC.days_since_onset.isin([0,3,6])]"
   ]
  },
  {
   "cell_type": "code",
   "execution_count": null,
   "metadata": {
    "application/vnd.databricks.v1+cell": {
     "inputWidgets": {},
     "nuid": "c6a6faee-85ec-4d77-8e64-8f5227fc42e8",
     "showTitle": false,
     "title": ""
    }
   },
   "outputs": [
    {
     "data": {
      "text/html": [
       "<style scoped>\n",
       "  .ansiout {\n",
       "    display: block;\n",
       "    unicode-bidi: embed;\n",
       "    white-space: pre-wrap;\n",
       "    word-wrap: break-word;\n",
       "    word-break: break-all;\n",
       "    font-family: \"Source Code Pro\", \"Menlo\", monospace;;\n",
       "    font-size: 13px;\n",
       "    color: #555;\n",
       "    margin-left: 4px;\n",
       "    line-height: 19px;\n",
       "  }\n",
       "</style>\n",
       "<div class=\"ansiout\">[&#39;Flu, N=30&#39;, &#39;COVID, N=30&#39;]\n",
       "</div>"
      ]
     },
     "metadata": {
      "application/vnd.databricks.v1+output": {
       "addedWidgets": {},
       "arguments": {},
       "data": "<div class=\"ansiout\">[&#39;Flu, N=30&#39;, &#39;COVID, N=30&#39;]\n</div>",
       "datasetInfos": [],
       "removedWidgets": [],
       "type": "html"
      }
     },
     "output_type": "display_data"
    }
   ],
   "source": [
    "use_palette = [dict_hue[q] for q in [  'Flu', 'Covid']]\n",
    "use_hue_order = [ 'Flu, N=30', 'COVID, N=30'] #list(pred_HvC.Type.unique())\n",
    "print(use_hue_order)"
   ]
  },
  {
   "cell_type": "code",
   "execution_count": null,
   "metadata": {
    "application/vnd.databricks.v1+cell": {
     "inputWidgets": {},
     "nuid": "1551b8c3-25cc-4a7f-912e-9244b49df31e",
     "showTitle": false,
     "title": ""
    }
   },
   "outputs": [
    {
     "data": {
      "image/png": "[encoded data removed]"
     },
     "metadata": {
      "application/vnd.databricks.v1+output": {
       "addedWidgets": {},
       "arguments": {},
       "data": "/plots/f2d99012-b831-428b-883e-eafd47d0d9ab.png",
       "datasetInfos": [],
       "removedWidgets": [],
       "type": "image"
      }
     },
     "output_type": "display_data"
    }
   ],
   "source": [
    "fig, ax = plot_spec_recall_since_onset(pred_HvC, plot_df_HvC, specificity_threshold,\n",
    "                                       'pred_spec95_HvC', \n",
    "                                        use_palette, use_hue_order,\n",
    "                                        'Wearable model performance (test-set)',\n",
    "                                        0.9, 'cumsum_spec95_HvC', 'count_spec95_HvC',\n",
    "                                       'COVID-19', 'Synthetic', 'Type', 'days_since_onset')\n",
    "display(fig)"
   ]
  },
  {
   "cell_type": "markdown",
   "metadata": {
    "application/vnd.databricks.v1+cell": {
     "inputWidgets": {},
     "nuid": "dd552ab2-4f83-4fc2-bb49-9280d9eaecc9",
     "showTitle": false,
     "title": ""
    }
   },
   "source": [
    "### Feature importance"
   ]
  },
  {
   "cell_type": "code",
   "execution_count": null,
   "metadata": {
    "application/vnd.databricks.v1+cell": {
     "inputWidgets": {},
     "nuid": "b615c6e3-2d11-40b6-beb2-d2f0e1d1be91",
     "showTitle": false,
     "title": ""
    }
   },
   "outputs": [
    {
     "data": {
      "text/html": [
       "<div>\n",
       "<style scoped>\n",
       "    .dataframe tbody tr th:only-of-type {\n",
       "        vertical-align: middle;\n",
       "    }\n",
       "\n",
       "    .dataframe tbody tr th {\n",
       "        vertical-align: top;\n",
       "    }\n",
       "\n",
       "    .dataframe thead th {\n",
       "        text-align: right;\n",
       "    }\n",
       "</style>\n",
       "<table border=\"1\" class=\"dataframe\">\n",
       "  <thead>\n",
       "    <tr style=\"text-align: right;\">\n",
       "      <th></th>\n",
       "      <th>feature_name</th>\n",
       "      <th>gain</th>\n",
       "    </tr>\n",
       "  </thead>\n",
       "  <tbody>\n",
       "    <tr>\n",
       "      <th>0</th>\n",
       "      <td>3days_ago heart_rate__not_moving__max</td>\n",
       "      <td>174.8385</td>\n",
       "    </tr>\n",
       "    <tr>\n",
       "      <th>1</th>\n",
       "      <td>0days_ago heart_rate__perc_50th</td>\n",
       "      <td>108.5595</td>\n",
       "    </tr>\n",
       "    <tr>\n",
       "      <th>2</th>\n",
       "      <td>1days_ago heart_rate__stddev</td>\n",
       "      <td>105.8452</td>\n",
       "    </tr>\n",
       "    <tr>\n",
       "      <th>3</th>\n",
       "      <td>0days_ago heart_rate__stddev</td>\n",
       "      <td>64.9317</td>\n",
       "    </tr>\n",
       "    <tr>\n",
       "      <th>4</th>\n",
       "      <td>2days_ago heart_rate__stddev</td>\n",
       "      <td>49.7525</td>\n",
       "    </tr>\n",
       "    <tr>\n",
       "      <th>5</th>\n",
       "      <td>1days_ago heart_rate__not_moving__max</td>\n",
       "      <td>48.0518</td>\n",
       "    </tr>\n",
       "    <tr>\n",
       "      <th>6</th>\n",
       "      <td>1days_ago heart_rate__resting_heart_rate</td>\n",
       "      <td>44.1435</td>\n",
       "    </tr>\n",
       "    <tr>\n",
       "      <th>7</th>\n",
       "      <td>0days_ago heart_rate__resting_heart_rate</td>\n",
       "      <td>40.4743</td>\n",
       "    </tr>\n",
       "    <tr>\n",
       "      <th>8</th>\n",
       "      <td>1days_ago heart_rate__perc_50th</td>\n",
       "      <td>39.8212</td>\n",
       "    </tr>\n",
       "    <tr>\n",
       "      <th>9</th>\n",
       "      <td>2days_ago heart_rate__not_moving__max</td>\n",
       "      <td>39.3000</td>\n",
       "    </tr>\n",
       "    <tr>\n",
       "      <th>10</th>\n",
       "      <td>0days_ago heart_rate__not_moving__max</td>\n",
       "      <td>31.2805</td>\n",
       "    </tr>\n",
       "    <tr>\n",
       "      <th>11</th>\n",
       "      <td>2days_ago heart_rate__resting_heart_rate</td>\n",
       "      <td>27.3442</td>\n",
       "    </tr>\n",
       "    <tr>\n",
       "      <th>12</th>\n",
       "      <td>4days_ago heart_rate__not_moving__max</td>\n",
       "      <td>23.5296</td>\n",
       "    </tr>\n",
       "    <tr>\n",
       "      <th>13</th>\n",
       "      <td>2days_ago heart_rate__perc_50th</td>\n",
       "      <td>21.1630</td>\n",
       "    </tr>\n",
       "    <tr>\n",
       "      <th>14</th>\n",
       "      <td>4days_ago heart_rate__perc_50th</td>\n",
       "      <td>16.4420</td>\n",
       "    </tr>\n",
       "  </tbody>\n",
       "</table>\n",
       "</div>"
      ]
     },
     "metadata": {
      "application/vnd.databricks.v1+output": {
       "addedWidgets": {},
       "arguments": {},
       "data": "<div>\n<style scoped>\n    .dataframe tbody tr th:only-of-type {\n        vertical-align: middle;\n    }\n\n    .dataframe tbody tr th {\n        vertical-align: top;\n    }\n\n    .dataframe thead th {\n        text-align: right;\n    }\n</style>\n<table border=\"1\" class=\"dataframe\">\n  <thead>\n    <tr style=\"text-align: right;\">\n      <th></th>\n      <th>feature_name</th>\n      <th>gain</th>\n    </tr>\n  </thead>\n  <tbody>\n    <tr>\n      <th>0</th>\n      <td>3days_ago heart_rate__not_moving__max</td>\n      <td>174.8385</td>\n    </tr>\n    <tr>\n      <th>1</th>\n      <td>0days_ago heart_rate__perc_50th</td>\n      <td>108.5595</td>\n    </tr>\n    <tr>\n      <th>2</th>\n      <td>1days_ago heart_rate__stddev</td>\n      <td>105.8452</td>\n    </tr>\n    <tr>\n      <th>3</th>\n      <td>0days_ago heart_rate__stddev</td>\n      <td>64.9317</td>\n    </tr>\n    <tr>\n      <th>4</th>\n      <td>2days_ago heart_rate__stddev</td>\n      <td>49.7525</td>\n    </tr>\n    <tr>\n      <th>5</th>\n      <td>1days_ago heart_rate__not_moving__max</td>\n      <td>48.0518</td>\n    </tr>\n    <tr>\n      <th>6</th>\n      <td>1days_ago heart_rate__resting_heart_rate</td>\n      <td>44.1435</td>\n    </tr>\n    <tr>\n      <th>7</th>\n      <td>0days_ago heart_rate__resting_heart_rate</td>\n      <td>40.4743</td>\n    </tr>\n    <tr>\n      <th>8</th>\n      <td>1days_ago heart_rate__perc_50th</td>\n      <td>39.8212</td>\n    </tr>\n    <tr>\n      <th>9</th>\n      <td>2days_ago heart_rate__not_moving__max</td>\n      <td>39.3000</td>\n    </tr>\n    <tr>\n      <th>10</th>\n      <td>0days_ago heart_rate__not_moving__max</td>\n      <td>31.2805</td>\n    </tr>\n    <tr>\n      <th>11</th>\n      <td>2days_ago heart_rate__resting_heart_rate</td>\n      <td>27.3442</td>\n    </tr>\n    <tr>\n      <th>12</th>\n      <td>4days_ago heart_rate__not_moving__max</td>\n      <td>23.5296</td>\n    </tr>\n    <tr>\n      <th>13</th>\n      <td>2days_ago heart_rate__perc_50th</td>\n      <td>21.1630</td>\n    </tr>\n    <tr>\n      <th>14</th>\n      <td>4days_ago heart_rate__perc_50th</td>\n      <td>16.4420</td>\n    </tr>\n  </tbody>\n</table>\n</div>",
       "datasetInfos": [],
       "removedWidgets": [],
       "textData": "<div class=\"ansiout\">Out[61]: </div>",
       "type": "htmlSandbox"
      }
     },
     "output_type": "display_data"
    }
   ],
   "source": [
    "get_feature_importance(classifier_HvC)"
   ]
  },
  {
   "cell_type": "code",
   "execution_count": null,
   "metadata": {
    "application/vnd.databricks.v1+cell": {
     "inputWidgets": {},
     "nuid": "b7e97f61-d128-4cfe-bc24-9be5f09a4631",
     "showTitle": false,
     "title": ""
    }
   },
   "outputs": [
    {
     "data": {
      "text/html": [
       "<style scoped>\n",
       "  .ansiout {\n",
       "    display: block;\n",
       "    unicode-bidi: embed;\n",
       "    white-space: pre-wrap;\n",
       "    word-wrap: break-word;\n",
       "    word-break: break-all;\n",
       "    font-family: \"Source Code Pro\", \"Menlo\", monospace;;\n",
       "    font-size: 13px;\n",
       "    color: #555;\n",
       "    margin-left: 4px;\n",
       "    line-height: 19px;\n",
       "  }\n",
       "</style>"
      ]
     },
     "metadata": {
      "application/vnd.databricks.v1+output": {
       "arguments": {},
       "data": "",
       "errorSummary": "",
       "type": "ipynbError"
      }
     },
     "output_type": "display_data"
    }
   ],
   "source": [
    "### SAVE XGBOOST AS JSON\n",
    "#classifier_HvC.save_model('model.json')"
   ]
  }
 ],
 "metadata": {
  "application/vnd.databricks.v1+notebook": {
   "dashboards": [],
   "language": "python",
   "notebookName": "0__example_notebook",
   "notebookOrigID": 601049,
   "widgets": {}
  },
  "kernelspec": {
   "display_name": "",
   "name": ""
  },
  "language_info": {
   "name": ""
  }
 },
 "nbformat": 4,
 "nbformat_minor": 4
}
